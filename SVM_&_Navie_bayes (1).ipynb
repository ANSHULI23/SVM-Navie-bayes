{
  "cells": [
    {
      "cell_type": "markdown",
      "metadata": {
        "id": "RR_s_rzSpvKI"
      },
      "source": [
        "#**SVM & Navie bayes**"
      ]
    },
    {
      "cell_type": "markdown",
      "metadata": {
        "id": "PGgCvpeXp9WA"
      },
      "source": [
        "##**Theoritical Questions and Answers**"
      ]
    },
    {
      "cell_type": "markdown",
      "source": [
        "# **1. What is a Support Vector Machine (SVM)?**\n",
        "\n",
        "   A Support Vector Machine (SVM) is a machine learning model used for classification and regression tasks.\n",
        "\n",
        "---\n",
        "\n",
        "# **2. What is the difference between Hard Margin and Soft Margin SVM?**\n",
        "\n",
        "   * Hard Margin SVM aims to find the optimal hyperplane that perfectly separates the data into distinct classes, assuming the data is linearly separable and there are no misclassifications.\n",
        "\n",
        "   * Soft Margin SVM, on the other hand, allows for some misclassifications or data points to fall within the margin to handle cases where the data is not perfectly separable.\n",
        "\n",
        "---\n",
        "\n",
        "# **3. What is the mathematical intuition behind SVM?**\n",
        "\n",
        "   The mathematical intuition behind SVM involves finding the hyperplane that maximizes the margin between the classes. This is achieved by solving an optimization problem that minimizes the norm of the weight vector while satisfying constraints related to the correct classification of data points.\n",
        "\n",
        "---\n",
        "\n",
        "# **4. What is the role of Lagrange Multipliers in SVM?**\n",
        "\n",
        "   Lagrange Multipliers are used in SVM to solve the constrained optimization problem of finding the optimal hyperplane. They help to incorporate the constraints (correct classification) into the optimization function, allowing the SVM to find the solution that maximizes the margin while satisfying these constraints.\n",
        "\n",
        "---\n",
        "\n",
        "# **5. What are Support Vectors in SVM?**\n",
        "\n",
        "   Support Vectors are the data points that lie closest to the decision boundary (hyperplane). They are critical because they directly influence the position and orientation of the hyperplane.\n",
        "\n",
        "---\n",
        "\n",
        "# **6. What is a Support Vector Classifier (SVC)?**\n",
        "\n",
        "   A Support Vector Classifier (SVC) is a type of SVM used specifically for classification tasks. It aims to find the optimal boundary to separate data points into different classes.\n",
        "\n",
        "---\n",
        "\n",
        "# **7. What is a Support Vector Regressor (SVR)?**\n",
        "\n",
        "   A Support Vector Regressor (SVR) is a type of SVM used for regression tasks. Instead of separating data points into classes, SVR aims to find a function that best fits the data within a certain margin of tolerance.\n",
        "\n",
        "---\n",
        "\n",
        "# **8. What is the Kernel Trick in SVM?**\n",
        "\n",
        "   The Kernel Trick is a technique used in SVM to handle non-linearly separable data. It maps the original data into a higher-dimensional space where it becomes linearly separable, without explicitly performing the complex transformation.\n",
        "\n",
        "---\n",
        "\n",
        "# **9. Compare Linear Kernel, Polynomial Kernel, and RBF Kernel.**\n",
        "\n",
        "   * **Linear Kernel:** Simplest kernel, suitable for linearly separable data.\n",
        "   * **Polynomial Kernel:** Introduces non-linearity by mapping data to a higher dimension using polynomial functions.\n",
        "   * **RBF (Radial Basis Function) Kernel:** A powerful kernel that can handle complex non-linear relationships; it maps data to an infinite-dimensional space.\n",
        "\n",
        "---\n",
        "\n",
        "# **10. What is the effect of the C parameter in SVM?**\n",
        "\n",
        "   The C parameter in SVM controls the trade-off between achieving a low training error and maximizing the margin.\n",
        "\n",
        "   * A small C leads to a larger margin but may misclassify some training points.\n",
        "   \n",
        "* A large C aims for fewer misclassifications but may result in a smaller margin.\n",
        "\n",
        "---\n",
        "\n",
        "# **11. What is the role of the Gamma parameter in RBF Kernel SVM?**\n",
        "\n",
        "   The Gamma parameter in RBF Kernel SVM controls the influence of a single training example.\n",
        "\n",
        "   * A small Gamma means a Gaussian with a large variance, so the influence of a data point is far-reaching.\n",
        "\n",
        "  * A large Gamma means a Gaussian with small variance, resulting in a tighter fit to the training data.\n",
        "\n",
        "---\n",
        "\n",
        "# **12. What is the Naïve Bayes classifier, and why is it called \"Naïve\"?**\n",
        "\n",
        "   The Naïve Bayes classifier is a probabilistic machine learning model used for classification. It's called \"Naïve\" because it assumes that the features are independent of each other given the class variable, which is often not true in real-world data.\n",
        "\n",
        "---\n",
        "\n",
        "# **13. What is Bayes' Theorem?**\n",
        "\n",
        "   Bayes' Theorem is a mathematical formula that describes the probability of an event, based on prior knowledge of conditions that might be related to the event. It's the foundation of the Naïve Bayes classifier.\n",
        "\n",
        "  - The formula for Bayes' Theorem is:\n",
        "\n",
        "   P(A|B) = [P(B|A) * P(A)] / P(B)\n",
        "Or,\n",
        "\n",
        "$P(A|B) = \\frac{P(B|A) \\cdot P(A)}{P(B)}$\n",
        "\n",
        "   Where:\n",
        "\n",
        "  * P(A|B): The probability of event A occurring, given that event B has occurred.\n",
        "  \n",
        "* P(B|A): The probability of event B occurring, given that event A has occurred.\n",
        "  \n",
        "* P(A): The prior probability of event A occurring.\n",
        "\n",
        "* P(B): The prior probability of event B occurring.\n",
        "\n",
        "---\n",
        "\n",
        "# **14. Explain the differences between Gaussian Naïve Bayes, Multinomial Naïve Bayes, and Bernoulli Naïve Bayes.**\n",
        "\n",
        "  * **Gaussian Naïve Bayes:** Assumes that the features follow a Gaussian (normal) distribution. Used for continuous data.\n",
        "\n",
        "* **Multinomial Naïve Bayes:** Used for discrete data, such as word counts in text classification.\n",
        "\n",
        "* **Bernoulli Naïve Bayes:** Used for binary data (e.g., presence/absence of a word in a document).\n",
        "\n",
        "---\n",
        "\n",
        "# **15. When should you use Gaussian Naïve Bayes over other variants?**\n",
        "\n",
        "  - You should use Gaussian Naïve Bayes when your features are continuous and assumed to be normally distributed.\n",
        "\n",
        "---\n",
        "\n",
        "# **16. What are the key assumptions made by Naïve Bayes?**\n",
        "\n",
        "- The key assumption made by Naïve Bayes is that the features are conditionally independent of each other given the class.\n",
        "\n",
        "---\n",
        "\n",
        "# **17. What are the advantages and disadvantages of Naïve Bayes?**\n",
        "\n",
        "  * **Advantages:** Simple to implement, computationally efficient, and performs well in many practical applications, especially text classification.\n",
        "\n",
        "  * **Disadvantages:** The strong independence assumption is often violated in real-world scenarios, which can affect accuracy.\n",
        "\n",
        "---\n",
        "\n",
        "# **18. Why is Naïve Bayes a good choice for text classification?**\n",
        "\n",
        "  Naïve Bayes is a good choice for text classification because it handles high-dimensional data well and can efficiently process large vocabularies.\n",
        "\n",
        "- Despite its \"naïve\" assumption, it often performs surprisingly well in practice for this task.\n",
        "\n",
        "---\n",
        "\n",
        "# **19. Compare SVM and Naïve Bayes for classification tasks.**\n",
        "\n",
        "  * **SVM:** Generally more powerful and can handle non-linear relationships with the kernel trick. Effective in high-dimensional spaces.\n",
        "\n",
        "* **Naïve Bayes:** Simpler, faster, and works well with text data.\n",
        "\n",
        "---\n",
        "\n",
        "# **20. How does Laplace Smoothing help in Naïve Bayes?**\n",
        "\n",
        " - Laplace Smoothing is a technique used in Naïve Bayes to handle the issue of zero probability for a feature given a class. It adds a small value (usually 1) to the count of each feature, ensuring that no probability is exactly zero.\n",
        "\n",
        "\n",
        "-----"
      ],
      "metadata": {
        "id": "ROA2nL-QnKtw"
      }
    },
    {
      "cell_type": "markdown",
      "metadata": {
        "id": "JXQaW4mh6Gn8"
      },
      "source": [
        "#**Practical Questions Answer**"
      ]
    },
    {
      "cell_type": "code",
      "source": [
        "import numpy as np\n",
        "from sklearn import datasets\n",
        "from sklearn.model_selection import train_test_split\n",
        "from sklearn import svm\n",
        "from sklearn.metrics import accuracy_score\n",
        "\n",
        "# 21. Write a Python program to train an SVM Classifier on the Iris dataset and evaluate accuracy.\n",
        "def train_svm_iris():\n",
        "    iris = datasets.load_iris()\n",
        "    X = iris.data\n",
        "    y = iris.target\n",
        "    X_train, X_test, y_train, y_test = train_test_split(X, y, test_size=0.3, random_state=42)  # For reproducibility\n",
        "    clf = svm.SVC(kernel='linear')  # You can experiment with other kernels\n",
        "    clf.fit(X_train, y_train)\n",
        "    y_pred = clf.predict(X_test)\n",
        "    accuracy = accuracy_score(y_test, y_pred)\n",
        "    print(\"Accuracy:\", accuracy)\n",
        "\n",
        "train_svm_iris()"
      ],
      "metadata": {
        "colab": {
          "base_uri": "https://localhost:8080/"
        },
        "id": "baobA2n7rrIh",
        "outputId": "507261c4-be57-4cb2-f30a-fe1379e2a5b6"
      },
      "execution_count": null,
      "outputs": [
        {
          "output_type": "stream",
          "name": "stdout",
          "text": [
            "Accuracy: 1.0\n"
          ]
        }
      ]
    },
    {
      "cell_type": "code",
      "source": [
        "#Q22. Write a Python program to train two SVM classifiers with Linear and RBF kernels on the Wine dataset, then compare their accuracies?\n",
        "\n",
        "from sklearn import datasets\n",
        "from sklearn.model_selection import train_test_split\n",
        "from sklearn.svm import SVC\n",
        "from sklearn.metrics import accuracy_score\n",
        "\n",
        "# Load the Wine dataset\n",
        "wine = datasets.load_wine()\n",
        "X = wine.data\n",
        "y = wine.target\n",
        "\n",
        "# Split into training and testing sets\n",
        "X_train, X_test, y_train, y_test = train_test_split(X, y, test_size=0.3, random_state=42)\n",
        "\n",
        "# SVM with Linear Kernel\n",
        "linear_svm = SVC(kernel='linear', random_state=42)\n",
        "linear_svm.fit(X_train, y_train)\n",
        "linear_preds = linear_svm.predict(X_test)\n",
        "linear_accuracy = accuracy_score(y_test, linear_preds)\n",
        "\n",
        "# SVM with RBF Kernel\n",
        "rbf_svm = SVC(kernel='rbf', random_state=42)\n",
        "rbf_svm.fit(X_train, y_train)\n",
        "rbf_preds = rbf_svm.predict(X_test)\n",
        "rbf_accuracy = accuracy_score(y_test, rbf_preds)\n",
        "\n",
        "# Print the comparison\n",
        "print(\"Accuracy with Linear Kernel:\", linear_accuracy)\n",
        "print(\"Accuracy with RBF Kernel   :\", rbf_accuracy)\n",
        "\n",
        "if linear_accuracy > rbf_accuracy:\n",
        "    print(\"Linear Kernel performed better.\")\n",
        "elif rbf_accuracy > linear_accuracy:\n",
        "    print(\"RBF Kernel performed better.\")\n",
        "else:\n",
        "    print(\"Both kernels performed equally.\")"
      ],
      "metadata": {
        "id": "cjGnbsI6r5d5",
        "colab": {
          "base_uri": "https://localhost:8080/"
        },
        "outputId": "03bf4592-9af2-4d5e-b047-0375545a7283"
      },
      "execution_count": null,
      "outputs": [
        {
          "output_type": "stream",
          "name": "stdout",
          "text": [
            "Accuracy with Linear Kernel: 0.9814814814814815\n",
            "Accuracy with RBF Kernel   : 0.7592592592592593\n",
            "Linear Kernel performed better.\n"
          ]
        }
      ]
    },
    {
      "cell_type": "code",
      "source": [
        "#23. Write a Python program to train an SVM Regressor (SVR) on a housing dataset and evaluate it using Mean Squared Error (MSE)?\n",
        "\n",
        "from sklearn.datasets import fetch_california_housing\n",
        "from sklearn.model_selection import train_test_split\n",
        "from sklearn.svm import SVR\n",
        "from sklearn.metrics import mean_squared_error\n",
        "\n",
        "# Load dataset\n",
        "data = fetch_california_housing()\n",
        "X, y = data.data, data.target\n",
        "\n",
        "# Train-test split\n",
        "X_train, X_test, y_train, y_test = train_test_split(X, y, test_size=0.2, random_state=42)\n",
        "\n",
        "# SVR model\n",
        "svr = SVR(kernel='rbf')\n",
        "svr.fit(X_train, y_train)\n",
        "\n",
        "# Predictions and evaluation\n",
        "y_pred = svr.predict(X_test)\n",
        "mse = mean_squared_error(y_test, y_pred)\n",
        "\n",
        "print(\"Mean Squared Error (MSE):\", mse)"
      ],
      "metadata": {
        "colab": {
          "base_uri": "https://localhost:8080/"
        },
        "id": "3NJumNoovmL6",
        "outputId": "64065f3d-7213-4a99-93a9-daee46cab224"
      },
      "execution_count": null,
      "outputs": [
        {
          "output_type": "stream",
          "name": "stdout",
          "text": [
            "Mean Squared Error (MSE): 1.3320115421348744\n"
          ]
        }
      ]
    },
    {
      "cell_type": "code",
      "source": [
        "#24. Write a Python program to train an SVM Classifier with a Polynomial Kernel and visualize the decision boundary?\n",
        "\n",
        "import numpy as np\n",
        "import matplotlib.pyplot as plt\n",
        "from sklearn import datasets\n",
        "from sklearn.svm import SVC\n",
        "\n",
        "# Load toy dataset for visualization\n",
        "X, y = datasets.make_moons(n_samples=100, noise=0.1, random_state=0)\n",
        "\n",
        "# Train model\n",
        "model = SVC(kernel='poly', degree=3)\n",
        "model.fit(X, y)\n",
        "\n",
        "# Plot decision boundary\n",
        "def plot_decision_boundary(model, X, y):\n",
        "    h = .02\n",
        "    x_min, x_max = X[:, 0].min() - 1, X[:, 0].max() + 1\n",
        "    y_min, y_max = X[:, 1].min() - 1, X[:, 1].max() + 1\n",
        "    xx, yy = np.meshgrid(np.arange(x_min, x_max, h),\n",
        "                         np.arange(y_min, y_max, h))\n",
        "    Z = model.predict(np.c_[xx.ravel(), yy.ravel()])\n",
        "    Z = Z.reshape(xx.shape)\n",
        "    plt.contourf(xx, yy, Z, alpha=0.8)\n",
        "    plt.scatter(X[:, 0], X[:, 1], c=y, edgecolors='k')\n",
        "    plt.title(\"SVM with Polynomial Kernel\")\n",
        "    plt.show()\n",
        "\n",
        "plot_decision_boundary(model, X, y)"
      ],
      "metadata": {
        "colab": {
          "base_uri": "https://localhost:8080/",
          "height": 254
        },
        "id": "oJBDuOdUwPE6",
        "outputId": "c6a42f1c-8bba-401b-f2d5-bf58905170ff"
      },
      "execution_count": null,
      "outputs": [
        {
          "output_type": "display_data",
          "data": {
            "text/plain": [
              "<Figure size 640x480 with 1 Axes>"
            ],
            "image/png": "[encoded data removed]"
          },
          "metadata": {}
        }
      ]
    },
    {
      "cell_type": "code",
      "source": [
        "#24. Write a Python program to train an SVM Classifier with a Polynomial Kernel and visualize the decision boundary?\n",
        "\n",
        "\n",
        "import matplotlib.pyplot as plt\n",
        "from sklearn.datasets import make_classification\n",
        "from sklearn.svm import SVC\n",
        "from sklearn.preprocessing import StandardScaler\n",
        "\n",
        "# Generate synthetic 2D classification data\n",
        "X, y = make_classification(n_samples=100, n_features=2, n_redundant=0,\n",
        "                           n_clusters_per_class=1, random_state=42)\n",
        "\n",
        "# Scale features\n",
        "scaler = StandardScaler()\n",
        "X = scaler.fit_transform(X)\n",
        "\n",
        "# Train SVM with Polynomial Kernel\n",
        "clf = SVC(kernel='poly', degree=3)\n",
        "clf.fit(X, y)\n",
        "\n",
        "# Plot decision boundary\n",
        "def plot_decision_boundary(clf, X, y):\n",
        "    plt.figure(figsize=(8,6))\n",
        "    x_min, x_max = X[:, 0].min()-1, X[:, 0].max()+1\n",
        "    y_min, y_max = X[:, 1].min()-1, X[:, 1].max()+1\n",
        "    xx, yy = np.meshgrid(np.linspace(x_min, x_max, 200),\n",
        "                         np.linspace(y_min, y_max, 200))\n",
        "    Z = clf.predict(np.c_[xx.ravel(), yy.ravel()])\n",
        "    Z = Z.reshape(xx.shape)\n",
        "\n",
        "    plt.contourf(xx, yy, Z, alpha=0.3)\n",
        "    plt.scatter(X[:, 0], X[:, 1], c=y, edgecolors='k')\n",
        "    plt.title(\"SVM with Polynomial Kernel (degree=3)\")\n",
        "    plt.xlabel(\"Feature 1\")\n",
        "    plt.ylabel(\"Feature 2\")\n",
        "    plt.show()\n",
        "\n",
        "plot_decision_boundary(clf, X, y)"
      ],
      "metadata": {
        "colab": {
          "base_uri": "https://localhost:8080/",
          "height": 258
        },
        "id": "dbThVjCownVf",
        "outputId": "1e5bfbbc-af7b-41de-ba4f-7c0421730449"
      },
      "execution_count": null,
      "outputs": [
        {
          "output_type": "display_data",
          "data": {
            "text/plain": [
              "<Figure size 800x600 with 1 Axes>"
            ],
            "image/png": "[encoded data removed]"
          },
          "metadata": {}
        }
      ]
    },
    {
      "cell_type": "code",
      "source": [
        "\n",
        "#25. Write a Python program to train a Gaussian Naïve Bayes classifier on the Breast Cancer dataset and evaluate accuracy?\n",
        "\n",
        "\n",
        "from sklearn.datasets import load_breast_cancer\n",
        "from sklearn.model_selection import train_test_split\n",
        "from sklearn.naive_bayes import GaussianNB\n",
        "from sklearn.metrics import accuracy_score\n",
        "\n",
        "# Load dataset\n",
        "data = load_breast_cancer()\n",
        "X, y = data.data, data.target\n",
        "\n",
        "# Split data\n",
        "X_train, X_test, y_train, y_test = train_test_split(X, y, test_size=0.3, random_state=42)\n",
        "\n",
        "# Train GaussianNB\n",
        "gnb = GaussianNB()\n",
        "gnb.fit(X_train, y_train)\n",
        "\n",
        "# Predict and evaluate\n",
        "y_pred = gnb.predict(X_test)\n",
        "accuracy = accuracy_score(y_test, y_pred)\n",
        "print(\"Accuracy of Gaussian Naive Bayes on Breast Cancer dataset:\", accuracy)"
      ],
      "metadata": {
        "colab": {
          "base_uri": "https://localhost:8080/"
        },
        "id": "Dme9UxNxxJOy",
        "outputId": "eb7290f2-4dbb-4a04-9f59-efdf7f416ce4"
      },
      "execution_count": null,
      "outputs": [
        {
          "output_type": "stream",
          "name": "stdout",
          "text": [
            "Accuracy of Gaussian Naive Bayes on Breast Cancer dataset: 0.9415204678362573\n"
          ]
        }
      ]
    },
    {
      "cell_type": "code",
      "source": [
        "#26. Write a Python program to train a Multinomial Naïve Bayes classifier for text classification using the 20 Newsgroups dataset.\n",
        "\n",
        "from sklearn.datasets import fetch_20newsgroups\n",
        "from sklearn.feature_extraction.text import TfidfVectorizer\n",
        "from sklearn.naive_bayes import MultinomialNB\n",
        "from sklearn.model_selection import train_test_split\n",
        "from sklearn.metrics import accuracy_score\n",
        "\n",
        "# Load text dataset\n",
        "newsgroups = fetch_20newsgroups(subset='all', categories=['sci.space', 'rec.sport.baseball'])\n",
        "X_train, X_test, y_train, y_test = train_test_split(newsgroups.data, newsgroups.target, test_size=0.3, random_state=42)\n",
        "\n",
        "# Convert text to TF-IDF features\n",
        "vectorizer = TfidfVectorizer()\n",
        "X_train_tfidf = vectorizer.fit_transform(X_train)\n",
        "X_test_tfidf = vectorizer.transform(X_test)\n",
        "\n",
        "# Train Multinomial Naive Bayes\n",
        "clf = MultinomialNB()\n",
        "clf.fit(X_train_tfidf, y_train)\n",
        "\n",
        "# Predict and evaluate\n",
        "y_pred = clf.predict(X_test_tfidf)\n",
        "accuracy = accuracy_score(y_test, y_pred)\n",
        "print(\"Accuracy of Multinomial Naive Bayes on 20 Newsgroups (sci.space vs rec.sport.baseball):\", accuracy)"
      ],
      "metadata": {
        "colab": {
          "base_uri": "https://localhost:8080/"
        },
        "id": "PWEU0hb9xRtq",
        "outputId": "184fa303-d1ef-44bf-c717-413d71272453"
      },
      "execution_count": null,
      "outputs": [
        {
          "output_type": "stream",
          "name": "stdout",
          "text": [
            "Accuracy of Multinomial Naive Bayes on 20 Newsgroups (sci.space vs rec.sport.baseball): 0.9983193277310924\n"
          ]
        }
      ]
    },
    {
      "cell_type": "code",
      "source": [
        "#27. Write a Python program to train an SVM Classifier with different C values and compare the decision boundaries visually?\n",
        "\n",
        "import numpy as np\n",
        "import matplotlib.pyplot as plt\n",
        "from sklearn.datasets import make_classification\n",
        "from sklearn.svm import SVC\n",
        "from sklearn.preprocessing import StandardScaler\n",
        "\n",
        "# Create synthetic dataset\n",
        "X, y = make_classification(n_samples=100, n_features=2, n_redundant=0, random_state=42)\n",
        "scaler = StandardScaler()\n",
        "X = scaler.fit_transform(X)\n",
        "\n",
        "# Plotting function\n",
        "def plot_svm_C(X, y, C_values):\n",
        "    plt.figure(figsize=(15, 4))\n",
        "    for i, C in enumerate(C_values):\n",
        "        clf = SVC(kernel='linear', C=C)\n",
        "        clf.fit(X, y)\n",
        "\n",
        "        # Plot decision boundary\n",
        "        plt.subplot(1, len(C_values), i+1)\n",
        "        ax = plt.gca()\n",
        "        xlim = ax.get_xlim()\n",
        "        ylim = ax.get_ylim()\n",
        "        xx, yy = np.meshgrid(np.linspace(xlim[0], xlim[1], 200),\n",
        "                             np.linspace(ylim[0], ylim[1], 200))\n",
        "        Z = clf.decision_function(np.c_[xx.ravel(), yy.ravel()])\n",
        "        Z = Z.reshape(xx.shape)\n",
        "        plt.contourf(xx, yy, Z > 0, alpha=0.3)\n",
        "        plt.contour(xx, yy, Z, colors='k', levels=[0], linestyles=['-'])\n",
        "        plt.scatter(X[:, 0], X[:, 1], c=y, cmap=plt.cm.coolwarm, s=20)\n",
        "        plt.title(f'C = {C}')\n",
        "    plt.tight_layout()\n",
        "    plt.show()\n",
        "\n",
        "plot_svm_C(X, y, [0.01, 1, 100])"
      ],
      "metadata": {
        "id": "atoZbMuNzMge",
        "colab": {
          "base_uri": "https://localhost:8080/",
          "height": 97
        },
        "outputId": "53be5076-1f6b-47a0-f252-651d0f3f91dd"
      },
      "execution_count": null,
      "outputs": [
        {
          "output_type": "display_data",
          "data": {
            "text/plain": [
              "<Figure size 1500x400 with 3 Axes>"
            ],
            "image/png": "[encoded data removed]"
          },
          "metadata": {}
        }
      ]
    },
    {
      "cell_type": "code",
      "source": [
        "#28. Write a Python program to train a Bernoulli Naïve Bayes classifier for binary classification on a dataset with binary features?\n",
        "\n",
        "from sklearn.naive_bayes import BernoulliNB\n",
        "from sklearn.datasets import make_classification\n",
        "from sklearn.model_selection import train_test_split\n",
        "from sklearn.metrics import accuracy_score\n",
        "\n",
        "# Create binary dataset\n",
        "X, y = make_classification(n_samples=1000, n_features=20, n_informative=10,\n",
        "                           n_classes=2, random_state=42)\n",
        "X_binary = (X > 0).astype(int)  # Convert features to binary\n",
        "\n",
        "# Split\n",
        "X_train, X_test, y_train, y_test = train_test_split(X_binary, y, test_size=0.3, random_state=42)\n",
        "\n",
        "# Train BernoulliNB\n",
        "bnb = BernoulliNB()\n",
        "bnb.fit(X_train, y_train)\n",
        "\n",
        "# Predict and accuracy\n",
        "y_pred = bnb.predict(X_test)\n",
        "accuracy = accuracy_score(y_test, y_pred)\n",
        "print(\"Accuracy of Bernoulli Naive Bayes on binary dataset:\", accuracy)"
      ],
      "metadata": {
        "id": "c0HwV0xKzSjL",
        "colab": {
          "base_uri": "https://localhost:8080/"
        },
        "outputId": "f1ad2888-19df-43a8-f777-f576224590e0"
      },
      "execution_count": null,
      "outputs": [
        {
          "output_type": "stream",
          "name": "stdout",
          "text": [
            "Accuracy of Bernoulli Naive Bayes on binary dataset: 0.75\n"
          ]
        }
      ]
    },
    {
      "cell_type": "code",
      "source": [
        "#29. Write a Python program to apply feature scaling before training an SVM model and compare results with unscaled data?\n",
        "\n",
        "from sklearn.datasets import load_breast_cancer\n",
        "from sklearn.model_selection import train_test_split\n",
        "from sklearn.svm import SVC\n",
        "from sklearn.metrics import accuracy_score\n",
        "from sklearn.preprocessing import StandardScaler\n",
        "\n",
        "# Load dataset\n",
        "data = load_breast_cancer()\n",
        "X, y = data.data, data.target\n",
        "X_train, X_test, y_train, y_test = train_test_split(X, y, test_size=0.3, random_state=42)\n",
        "\n",
        "# Without scaling\n",
        "clf_unscaled = SVC()\n",
        "clf_unscaled.fit(X_train, y_train)\n",
        "y_pred_unscaled = clf_unscaled.predict(X_test)\n",
        "acc_unscaled = accuracy_score(y_test, y_pred_unscaled)\n",
        "\n",
        "# With scaling\n",
        "scaler = StandardScaler()\n",
        "X_train_scaled = scaler.fit_transform(X_train)\n",
        "X_test_scaled = scaler.transform(X_test)\n",
        "\n",
        "clf_scaled = SVC()\n",
        "clf_scaled.fit(X_train_scaled, y_train)\n",
        "y_pred_scaled = clf_scaled.predict(X_test_scaled)\n",
        "acc_scaled = accuracy_score(y_test, y_pred_scaled)\n",
        "\n",
        "print(\"Accuracy without scaling:\", acc_unscaled)\n",
        "print(\"Accuracy with scaling:\", acc_scaled)"
      ],
      "metadata": {
        "id": "Mu_Xu3ojze9n",
        "colab": {
          "base_uri": "https://localhost:8080/"
        },
        "outputId": "b4917e66-6458-43f3-fb87-69148a1db16b"
      },
      "execution_count": null,
      "outputs": [
        {
          "output_type": "stream",
          "name": "stdout",
          "text": [
            "Accuracy without scaling: 0.935672514619883\n",
            "Accuracy with scaling: 0.9766081871345029\n"
          ]
        }
      ]
    },
    {
      "cell_type": "code",
      "source": [
        "#30. Write a Python program to train a Gaussian Naïve Bayes model and compare the predictions before and after Laplace Smoothing?\n",
        "\n",
        "from sklearn.datasets import load_iris\n",
        "from sklearn.naive_bayes import GaussianNB\n",
        "from sklearn.model_selection import train_test_split\n",
        "from sklearn.metrics import accuracy_score\n",
        "\n",
        "# Load the data\n",
        "data = load_iris()\n",
        "X, y = data.data, data.target\n",
        "\n",
        "# Split the data\n",
        "X_train, X_test, y_train, y_test = train_test_split(X, y, test_size=0.3, random_state=42)\n",
        "\n",
        "# Train using GaussianNB\n",
        "model = GaussianNB()\n",
        "model.fit(X_train, y_train)\n",
        "y_pred = model.predict(X_test)\n",
        "\n",
        "# Evaluate\n",
        "acc = accuracy_score(y_test, y_pred)\n",
        "print(\"Accuracy with GaussianNB (no Laplace):\", acc)"
      ],
      "metadata": {
        "id": "TGq7ZQJjzwjl",
        "colab": {
          "base_uri": "https://localhost:8080/"
        },
        "outputId": "60478bf9-fa7e-4f7e-f362-209446b8b26d"
      },
      "execution_count": null,
      "outputs": [
        {
          "output_type": "stream",
          "name": "stdout",
          "text": [
            "Accuracy with GaussianNB (no Laplace): 0.9777777777777777\n"
          ]
        }
      ]
    },
    {
      "cell_type": "code",
      "source": [
        "#31. Write a Python program to train an SVM Classifier and use GridSearchCV to tune the hyperparameters (C, gamma, kernel)?\n",
        "\n",
        "from sklearn.datasets import load_iris\n",
        "from sklearn.model_selection import GridSearchCV, train_test_split\n",
        "from sklearn.svm import SVC\n",
        "\n",
        "X, y = load_iris(return_X_y=True)\n",
        "X_train, X_test, y_train, y_test = train_test_split(X, y, test_size=0.3, random_state=42)\n",
        "\n",
        "# Define parameter grid\n",
        "param_grid = {\n",
        "    'C': [0.1, 1, 10],\n",
        "    'gamma': ['scale', 0.1, 1],\n",
        "    'kernel': ['linear', 'rbf']\n",
        "}\n",
        "\n",
        "grid = GridSearchCV(SVC(), param_grid, refit=True, cv=5)\n",
        "grid.fit(X_train, y_train)\n",
        "\n",
        "print(\"Best Parameters:\", grid.best_params_)\n",
        "print(\"Best Score:\", grid.best_score_)"
      ],
      "metadata": {
        "id": "nTNqnxlGz4u1",
        "colab": {
          "base_uri": "https://localhost:8080/"
        },
        "outputId": "8d29a6e1-3deb-4174-e50d-ef6cea5e00a9"
      },
      "execution_count": null,
      "outputs": [
        {
          "output_type": "stream",
          "name": "stdout",
          "text": [
            "Best Parameters: {'C': 1, 'gamma': 'scale', 'kernel': 'linear'}\n",
            "Best Score: 0.9619047619047618\n"
          ]
        }
      ]
    },
    {
      "cell_type": "code",
      "source": [
        "#32. Write a Python program to train an SVM Classifier on an imbalanced dataset and apply class weighting and check it improve accuracy?\n",
        "\n",
        "from sklearn.datasets import make_classification\n",
        "from sklearn.svm import SVC\n",
        "from sklearn.metrics import classification_report\n",
        "from sklearn.model_selection import train_test_split\n",
        "\n",
        "X, y = make_classification(n_classes=2, weights=[0.9, 0.1], n_samples=1000, n_features=10, random_state=42)\n",
        "X_train, X_test, y_train, y_test = train_test_split(X, y, test_size=0.3)\n",
        "\n",
        "# Without class_weight\n",
        "model1 = SVC()\n",
        "model1.fit(X_train, y_train)\n",
        "print(\"Without Class Weight:\\n\", classification_report(y_test, model1.predict(X_test)))\n",
        "\n",
        "# With class_weight\n",
        "model2 = SVC(class_weight='balanced')\n",
        "model2.fit(X_train, y_train)\n",
        "print(\"With Class Weight:\\n\", classification_report(y_test, model2.predict(X_test)))"
      ],
      "metadata": {
        "id": "Hw-3rUA3z87c",
        "colab": {
          "base_uri": "https://localhost:8080/"
        },
        "outputId": "90e5b4df-8ed8-477b-d898-619d8569c635"
      },
      "execution_count": null,
      "outputs": [
        {
          "output_type": "stream",
          "name": "stdout",
          "text": [
            "Without Class Weight:\n",
            "               precision    recall  f1-score   support\n",
            "\n",
            "           0       0.96      0.98      0.97       276\n",
            "           1       0.68      0.54      0.60        24\n",
            "\n",
            "    accuracy                           0.94       300\n",
            "   macro avg       0.82      0.76      0.79       300\n",
            "weighted avg       0.94      0.94      0.94       300\n",
            "\n",
            "With Class Weight:\n",
            "               precision    recall  f1-score   support\n",
            "\n",
            "           0       0.98      0.89      0.94       276\n",
            "           1       0.40      0.79      0.53        24\n",
            "\n",
            "    accuracy                           0.89       300\n",
            "   macro avg       0.69      0.84      0.73       300\n",
            "weighted avg       0.93      0.89      0.90       300\n",
            "\n"
          ]
        }
      ]
    },
    {
      "cell_type": "code",
      "source": [
        "#33. Write a Python program to implement a Naïve Bayes classifier for spam detection using email data?\n",
        "\n",
        "from sklearn.feature_extraction.text import CountVectorizer\n",
        "from sklearn.naive_bayes import MultinomialNB\n",
        "from sklearn.model_selection import train_test_split\n",
        "from sklearn.metrics import classification_report\n",
        "\n",
        "# Sample dataset\n",
        "emails = [\n",
        "    \"Win money now\", \"Hey how are you\", \"Congratulations you won\",\n",
        "    \"Let's catch up tomorrow\", \"Claim your free prize\",\n",
        "    \"Are you coming to the party\", \"Lowest prices guaranteed\",\n",
        "    \"Let's go for lunch\", \"Free vacation offer\", \"Normal meeting schedule\",\n",
        "    \"Exclusive deal for you\", \"See you at the office\"\n",
        "]\n",
        "\n",
        "labels = [1, 0, 1, 0, 1, 0, 1, 0, 1, 0, 1, 0]  # 6 spam (1), 6 not spam (0)\n",
        "\n",
        "# Convert text to feature vectors\n",
        "vectorizer = CountVectorizer()\n",
        "X = vectorizer.fit_transform(emails)\n",
        "y = labels\n",
        "\n",
        "# Train-test split\n",
        "X_train, X_test, y_train, y_test = train_test_split(X, y, test_size=0.33, random_state=42)\n",
        "\n",
        "# Train Naive Bayes classifier\n",
        "model = MultinomialNB()\n",
        "model.fit(X_train, y_train)\n",
        "\n",
        "# Predict and evaluate\n",
        "y_pred = model.predict(X_test)\n",
        "print(classification_report(y_test, y_pred))"
      ],
      "metadata": {
        "id": "cOTmgNQG0BI7",
        "colab": {
          "base_uri": "https://localhost:8080/"
        },
        "outputId": "267d4470-54bf-4822-a178-e769633ab2f1"
      },
      "execution_count": null,
      "outputs": [
        {
          "output_type": "stream",
          "name": "stdout",
          "text": [
            "              precision    recall  f1-score   support\n",
            "\n",
            "           0       0.00      0.00      0.00         1\n",
            "           1       0.67      0.67      0.67         3\n",
            "\n",
            "    accuracy                           0.50         4\n",
            "   macro avg       0.33      0.33      0.33         4\n",
            "weighted avg       0.50      0.50      0.50         4\n",
            "\n"
          ]
        }
      ]
    },
    {
      "cell_type": "code",
      "source": [
        "#34. Write a Python program to train an SVM Classifier and a Naïve Bayes Classifier on the same dataset and compare their accuracy?\n",
        "\n",
        "from sklearn.datasets import load_digits\n",
        "from sklearn.model_selection import train_test_split\n",
        "from sklearn.svm import SVC\n",
        "from sklearn.naive_bayes import GaussianNB\n",
        "from sklearn.metrics import accuracy_score\n",
        "\n",
        "X, y = load_digits(return_X_y=True)\n",
        "X_train, X_test, y_train, y_test = train_test_split(X, y, test_size=0.3)\n",
        "\n",
        "# SVM\n",
        "svm = SVC()\n",
        "svm.fit(X_train, y_train)\n",
        "svm_acc = accuracy_score(y_test, svm.predict(X_test))\n",
        "\n",
        "# Naive Bayes\n",
        "nb = GaussianNB()\n",
        "nb.fit(X_train, y_train)\n",
        "nb_acc = accuracy_score(y_test, nb.predict(X_test))\n",
        "\n",
        "print(f\"SVM Accuracy: {svm_acc}\")\n",
        "print(f\"Naive Bayes Accuracy: {nb_acc}\")"
      ],
      "metadata": {
        "id": "-sZwX83L0HKp",
        "colab": {
          "base_uri": "https://localhost:8080/"
        },
        "outputId": "1992d84c-1597-4105-c939-db387dc8098e"
      },
      "execution_count": null,
      "outputs": [
        {
          "output_type": "stream",
          "name": "stdout",
          "text": [
            "SVM Accuracy: 0.987037037037037\n",
            "Naive Bayes Accuracy: 0.8240740740740741\n"
          ]
        }
      ]
    },
    {
      "cell_type": "code",
      "source": [
        "#35. Write a Python program to perform feature selection before training a Naïve Bayes classifier and compare results?\n",
        "\n",
        "from sklearn.datasets import load_breast_cancer\n",
        "from sklearn.feature_selection import SelectKBest, chi2\n",
        "from sklearn.model_selection import train_test_split\n",
        "from sklearn.naive_bayes import GaussianNB\n",
        "from sklearn.metrics import accuracy_score\n",
        "\n",
        "X, y = load_breast_cancer(return_X_y=True)\n",
        "\n",
        "# Feature selection\n",
        "selector = SelectKBest(score_func=chi2, k=10)\n",
        "X_new = selector.fit_transform(X, y)\n",
        "\n",
        "X_train, X_test, y_train, y_test = train_test_split(X, y, test_size=0.3)\n",
        "X_new_train, X_new_test, _, _ = train_test_split(X_new, y, test_size=0.3)\n",
        "\n",
        "# Without feature selection\n",
        "model1 = GaussianNB()\n",
        "model1.fit(X_train, y_train)\n",
        "acc1 = accuracy_score(y_test, model1.predict(X_test))\n",
        "\n",
        "# With feature selection\n",
        "model2 = GaussianNB()\n",
        "model2.fit(X_new_train, y_train)\n",
        "acc2 = accuracy_score(y_test, model2.predict(X_new_test))\n",
        "\n",
        "print(f\"Accuracy without feature selection: {acc1}\")\n",
        "print(f\"Accuracy with feature selection: {acc2}\")"
      ],
      "metadata": {
        "id": "55i8cZwX0LeT",
        "colab": {
          "base_uri": "https://localhost:8080/"
        },
        "outputId": "11fac05f-d8e7-4018-cee6-68966f0d1cb7"
      },
      "execution_count": null,
      "outputs": [
        {
          "output_type": "stream",
          "name": "stdout",
          "text": [
            "Accuracy without feature selection: 0.9181286549707602\n",
            "Accuracy with feature selection: 0.543859649122807\n"
          ]
        }
      ]
    },
    {
      "cell_type": "code",
      "source": [
        "#36. Write a Python program to train an SVM Classifier using One-vs-Rest (OvR) and One-vs-One (OvO) strategies on the Wine dataset and compare their accuracy?\n",
        "\n",
        "\n",
        "from sklearn import datasets\n",
        "from sklearn.model_selection import train_test_split\n",
        "from sklearn.preprocessing import StandardScaler\n",
        "from sklearn.svm import SVC\n",
        "from sklearn.multiclass import OneVsRestClassifier, OneVsOneClassifier\n",
        "from sklearn.metrics import accuracy_score\n",
        "\n",
        "# Load Wine dataset\n",
        "wine = datasets.load_wine()\n",
        "X, y = wine.data, wine.target\n",
        "\n",
        "# Split the dataset into training and testing sets\n",
        "X_train, X_test, y_train, y_test = train_test_split(X, y, test_size=0.3, random_state=42)\n",
        "\n",
        "# Standardize the features\n",
        "scaler = StandardScaler()\n",
        "X_train_scaled = scaler.fit_transform(X_train)\n",
        "X_test_scaled = scaler.transform(X_test)\n",
        "\n",
        "# One-vs-Rest Strategy\n",
        "ovr_clf = OneVsRestClassifier(SVC(kernel='linear'))\n",
        "ovr_clf.fit(X_train_scaled, y_train)\n",
        "ovr_pred = ovr_clf.predict(X_test_scaled)\n",
        "ovr_acc = accuracy_score(y_test, ovr_pred)\n",
        "\n",
        "# One-vs-One Strategy\n",
        "ovo_clf = OneVsOneClassifier(SVC(kernel='linear'))\n",
        "ovo_clf.fit(X_train_scaled, y_train)\n",
        "ovo_pred = ovo_clf.predict(X_test_scaled)\n",
        "ovo_acc = accuracy_score(y_test, ovo_pred)\n",
        "\n",
        "# Compare Accuracies\n",
        "print(f\"Accuracy using One-vs-Rest (OvR): {ovr_acc:.2f}\")\n",
        "print(f\"Accuracy using One-vs-One (OvO): {ovo_acc:.2f}\")"
      ],
      "metadata": {
        "id": "EvFQszPG0PXV",
        "colab": {
          "base_uri": "https://localhost:8080/"
        },
        "outputId": "95768f3a-1fa9-4d01-8b1e-a9f7b2eb5a05"
      },
      "execution_count": null,
      "outputs": [
        {
          "output_type": "stream",
          "name": "stdout",
          "text": [
            "Accuracy using One-vs-Rest (OvR): 0.98\n",
            "Accuracy using One-vs-One (OvO): 0.98\n"
          ]
        }
      ]
    },
    {
      "cell_type": "code",
      "source": [
        "#37. Write a Python program to train an SVM Classifier using Linear, Polynomial, and RBF kernels on the Breast Cancer dataset and compare their accuracy?\n",
        "\n",
        "from sklearn.datasets import load_breast_cancer\n",
        "from sklearn.model_selection import train_test_split\n",
        "from sklearn.svm import SVC\n",
        "from sklearn.metrics import accuracy_score\n",
        "\n",
        "# Load the Breast Cancer dataset\n",
        "data = load_breast_cancer()\n",
        "X = data.data\n",
        "y = data.target\n",
        "\n",
        "# Split the dataset into training and testing sets\n",
        "X_train, X_test, y_train, y_test = train_test_split(X, y, test_size=0.3, random_state=42)\n",
        "\n",
        "# Initialize SVM classifiers with different kernels\n",
        "svm_linear = SVC(kernel='linear')\n",
        "svm_poly = SVC(kernel='poly', degree=3)\n",
        "svm_rbf = SVC(kernel='rbf')\n",
        "\n",
        "# Train and evaluate Linear kernel\n",
        "svm_linear.fit(X_train, y_train)\n",
        "y_pred_linear = svm_linear.predict(X_test)\n",
        "acc_linear = accuracy_score(y_test, y_pred_linear)\n",
        "\n",
        "# Train and evaluate Polynomial kernel\n",
        "svm_poly.fit(X_train, y_train)\n",
        "y_pred_poly = svm_poly.predict(X_test)\n",
        "acc_poly = accuracy_score(y_test, y_pred_poly)\n",
        "\n",
        "# Train and evaluate RBF kernel\n",
        "svm_rbf.fit(X_train, y_train)\n",
        "y_pred_rbf = svm_rbf.predict(X_test)\n",
        "acc_rbf = accuracy_score(y_test, y_pred_rbf)\n",
        "\n",
        "# Print the results\n",
        "print(\"Accuracy Comparison:\")\n",
        "print(f\"Linear Kernel Accuracy: {acc_linear:.4f}\")\n",
        "print(f\"Polynomial Kernel Accuracy: {acc_poly:.4f}\")\n",
        "print(f\"RBF Kernel Accuracy: {acc_rbf:.4f}\")"
      ],
      "metadata": {
        "id": "Q0fyHf2D0TrZ",
        "colab": {
          "base_uri": "https://localhost:8080/"
        },
        "outputId": "0f93d935-d4dd-4b72-8652-b13f58aa4b5d"
      },
      "execution_count": null,
      "outputs": [
        {
          "output_type": "stream",
          "name": "stdout",
          "text": [
            "Accuracy Comparison:\n",
            "Linear Kernel Accuracy: 0.9649\n",
            "Polynomial Kernel Accuracy: 0.9415\n",
            "RBF Kernel Accuracy: 0.9357\n"
          ]
        }
      ]
    },
    {
      "cell_type": "code",
      "source": [
        "\n",
        "\n",
        "#38. Write a Python program to train an SVM Classifier using Stratified K-Fold Cross-Validation and compute the average accuracy?\n",
        "from sklearn.datasets import load_digits\n",
        "from sklearn.model_selection import StratifiedKFold\n",
        "from sklearn.svm import SVC\n",
        "from sklearn.metrics import accuracy_score\n",
        "import numpy as np\n",
        "\n",
        "# Load dataset\n",
        "X, y = load_digits(return_X_y=True)\n",
        "\n",
        "# Create Stratified K-Fold\n",
        "skf = StratifiedKFold(n_splits=5, shuffle=True, random_state=42)\n",
        "accuracies = []\n",
        "\n",
        "for train_index, test_index in skf.split(X, y):\n",
        "    X_train, X_test = X[train_index], X[test_index]\n",
        "    y_train, y_test = y[train_index], y[test_index]\n",
        "\n",
        "    model = SVC(kernel='linear')\n",
        "    model.fit(X_train, y_train)\n",
        "    y_pred = model.predict(X_test)\n",
        "\n",
        "    acc = accuracy_score(y_test, y_pred)\n",
        "    accuracies.append(acc)\n",
        "\n",
        "print(\"Average Accuracy (SVM with StratifiedKFold):\", np.mean(accuracies))"
      ],
      "metadata": {
        "id": "-sB-hrDX0Zc6",
        "colab": {
          "base_uri": "https://localhost:8080/"
        },
        "outputId": "bf1d1a53-5939-4c3a-adc8-915d8b51f084"
      },
      "execution_count": null,
      "outputs": [
        {
          "output_type": "stream",
          "name": "stdout",
          "text": [
            "Average Accuracy (SVM with StratifiedKFold): 0.9794103992571959\n"
          ]
        }
      ]
    },
    {
      "cell_type": "code",
      "source": [
        "#39. Write a Python program to train a Naïve Bayes classifier using different prior probabilities and compare performance?\n",
        "\n",
        "from sklearn.datasets import load_digits\n",
        "from sklearn.model_selection import train_test_split\n",
        "from sklearn.naive_bayes import GaussianNB\n",
        "from sklearn.metrics import accuracy_score\n",
        "\n",
        "# Load dataset\n",
        "X, y = load_digits(return_X_y=True)\n",
        "\n",
        "# Split dataset\n",
        "X_train, X_test, y_train, y_test = train_test_split(X, y, test_size=0.3, random_state=42)\n",
        "\n",
        "# Train with default priors\n",
        "model_default = GaussianNB()\n",
        "model_default.fit(X_train, y_train)\n",
        "y_pred_default = model_default.predict(X_test)\n",
        "acc_default = accuracy_score(y_test, y_pred_default)\n",
        "\n",
        "# Train with custom priors (equal probabilities for each class)\n",
        "import numpy as np\n",
        "n_classes = len(np.unique(y))\n",
        "custom_prior = [1/n_classes] * n_classes\n",
        "\n",
        "model_custom = GaussianNB(priors=custom_prior)\n",
        "model_custom.fit(X_train, y_train)\n",
        "y_pred_custom = model_custom.predict(X_test)\n",
        "acc_custom = accuracy_score(y_test, y_pred_custom)\n",
        "\n",
        "print(\"Accuracy with default priors:\", acc_default)\n",
        "print(\"Accuracy with custom equal priors:\", acc_custom)"
      ],
      "metadata": {
        "id": "dlazy9lM0hqD",
        "colab": {
          "base_uri": "https://localhost:8080/"
        },
        "outputId": "97ce93e2-b4d5-4ce4-ab88-d46e214d0ce0"
      },
      "execution_count": null,
      "outputs": [
        {
          "output_type": "stream",
          "name": "stdout",
          "text": [
            "Accuracy with default priors: 0.8518518518518519\n",
            "Accuracy with custom equal priors: 0.8518518518518519\n"
          ]
        }
      ]
    },
    {
      "cell_type": "code",
      "source": [
        "#40. Write a Python program to perform Recursive Feature Elimination (RFE) before training an SVM Classifier and compare accuracy?\n",
        "\n",
        "from sklearn.datasets import load_digits\n",
        "from sklearn.model_selection import train_test_split\n",
        "from sklearn.svm import SVC\n",
        "from sklearn.feature_selection import RFE\n",
        "from sklearn.metrics import accuracy_score\n",
        "\n",
        "# Load dataset\n",
        "X, y = load_digits(return_X_y=True)\n",
        "\n",
        "# Split dataset\n",
        "X_train, X_test, y_train, y_test = train_test_split(X, y, test_size=0.3, random_state=42)\n",
        "\n",
        "# SVM without RFE\n",
        "model_no_rfe = SVC(kernel='linear')\n",
        "model_no_rfe.fit(X_train, y_train)\n",
        "acc_no_rfe = accuracy_score(y_test, model_no_rfe.predict(X_test))\n",
        "\n",
        "# RFE + SVM\n",
        "rfe_selector = RFE(model_no_rfe, n_features_to_select=30)\n",
        "rfe_selector = rfe_selector.fit(X_train, y_train)\n",
        "\n",
        "X_train_rfe = rfe_selector.transform(X_train)\n",
        "X_test_rfe = rfe_selector.transform(X_test)\n",
        "\n",
        "model_rfe = SVC(kernel='linear')\n",
        "model_rfe.fit(X_train_rfe, y_train)\n",
        "acc_rfe = accuracy_score(y_test, model_rfe.predict(X_test_rfe))\n",
        "\n",
        "print(\"Accuracy without RFE:\", acc_no_rfe)\n",
        "print(\"Accuracy with RFE:\", acc_rfe)"
      ],
      "metadata": {
        "id": "k_cwxU1C0kgh",
        "colab": {
          "base_uri": "https://localhost:8080/"
        },
        "outputId": "7a4f10ef-0586-4526-a36b-c7e7cb77a797"
      },
      "execution_count": null,
      "outputs": [
        {
          "output_type": "stream",
          "name": "stdout",
          "text": [
            "Accuracy without RFE: 0.9796296296296296\n",
            "Accuracy with RFE: 0.9629629629629629\n"
          ]
        }
      ]
    },
    {
      "cell_type": "code",
      "source": [
        "#41. Write a Python program to train an SVM Classifier and evaluate its performance using Precision, Recall, and F1-Score instead of accuracy?\n",
        "\n",
        "from sklearn.datasets import load_breast_cancer\n",
        "from sklearn.model_selection import train_test_split\n",
        "from sklearn.svm import SVC\n",
        "from sklearn.metrics import classification_report\n",
        "\n",
        "# Load dataset\n",
        "X, y = load_breast_cancer(return_X_y=True)\n",
        "\n",
        "# Split into train/test\n",
        "X_train, X_test, y_train, y_test = train_test_split(X, y, test_size=0.3, random_state=42)\n",
        "\n",
        "# Train SVM\n",
        "model = SVC(kernel='linear')\n",
        "model.fit(X_train, y_train)\n",
        "\n",
        "# Predict\n",
        "y_pred = model.predict(X_test)\n",
        "\n",
        "# Evaluate using precision, recall, and f1-score\n",
        "print(\"Classification Report:\\n\")\n",
        "print(classification_report(y_test, y_pred))"
      ],
      "metadata": {
        "id": "p9Q-J-1B0raK",
        "colab": {
          "base_uri": "https://localhost:8080/"
        },
        "outputId": "e49e9ef5-6b0e-4c90-a116-26cbfe33b806"
      },
      "execution_count": null,
      "outputs": [
        {
          "output_type": "stream",
          "name": "stdout",
          "text": [
            "Classification Report:\n",
            "\n",
            "              precision    recall  f1-score   support\n",
            "\n",
            "           0       0.97      0.94      0.95        63\n",
            "           1       0.96      0.98      0.97       108\n",
            "\n",
            "    accuracy                           0.96       171\n",
            "   macro avg       0.97      0.96      0.96       171\n",
            "weighted avg       0.96      0.96      0.96       171\n",
            "\n"
          ]
        }
      ]
    },
    {
      "cell_type": "code",
      "source": [
        "#42. Write a Python program to train a Naïve Bayes Classifier and evaluate its performance using Log Loss (Cross-Entropy Loss)?\n",
        "\n",
        "from sklearn.datasets import load_breast_cancer\n",
        "from sklearn.model_selection import train_test_split\n",
        "from sklearn.naive_bayes import GaussianNB\n",
        "from sklearn.metrics import log_loss\n",
        "\n",
        "# Load dataset\n",
        "X, y = load_breast_cancer(return_X_y=True)\n",
        "\n",
        "# Split into train/test\n",
        "X_train, X_test, y_train, y_test = train_test_split(X, y, test_size=0.3, random_state=42)\n",
        "\n",
        "# Train Naive Bayes\n",
        "model = GaussianNB()\n",
        "model.fit(X_train, y_train)\n",
        "\n",
        "# Predict probabilities\n",
        "y_pred_prob = model.predict_proba(X_test)\n",
        "\n",
        "# Evaluate using Log Loss\n",
        "loss = log_loss(y_test, y_pred_prob)\n",
        "print(f\"Log Loss (Cross-Entropy Loss): {loss:.4f}\")"
      ],
      "metadata": {
        "id": "xDKVDBeD0t8T",
        "colab": {
          "base_uri": "https://localhost:8080/"
        },
        "outputId": "12a955e8-a335-4961-be2d-1bac73bc5b4a"
      },
      "execution_count": null,
      "outputs": [
        {
          "output_type": "stream",
          "name": "stdout",
          "text": [
            "Log Loss (Cross-Entropy Loss): 0.4899\n"
          ]
        }
      ]
    },
    {
      "cell_type": "code",
      "source": [
        "#43. Write a Python program to train an SVM Classifier and visualize the Confusion Matrix using seaborn?\n",
        "import seaborn as sns\n",
        "import matplotlib.pyplot as plt\n",
        "from sklearn.datasets import load_breast_cancer\n",
        "from sklearn.model_selection import train_test_split\n",
        "from sklearn.svm import SVC\n",
        "from sklearn.metrics import confusion_matrix\n",
        "\n",
        "# Load dataset\n",
        "X, y = load_breast_cancer(return_X_y=True)\n",
        "\n",
        "# Split into train/test\n",
        "X_train, X_test, y_train, y_test = train_test_split(X, y, test_size=0.3, random_state=42)\n",
        "\n",
        "# Train SVM\n",
        "model = SVC(kernel='linear')\n",
        "model.fit(X_train, y_train)\n",
        "\n",
        "# Predict\n",
        "y_pred = model.predict(X_test)\n",
        "\n",
        "# Confusion matrix\n",
        "cm = confusion_matrix(y_test, y_pred)\n",
        "\n",
        "# Visualize with seaborn\n",
        "sns.heatmap(cm, annot=True, fmt='d', cmap='Blues')\n",
        "plt.title('Confusion Matrix')\n",
        "plt.xlabel('Predicted')\n",
        "plt.ylabel('Actual')\n",
        "plt.show()"
      ],
      "metadata": {
        "id": "OGbdeO030xjC",
        "colab": {
          "base_uri": "https://localhost:8080/",
          "height": 274
        },
        "outputId": "96f794d4-5a91-418c-a7f9-3b5949b29a58"
      },
      "execution_count": null,
      "outputs": [
        {
          "output_type": "display_data",
          "data": {
            "text/plain": [
              "<Figure size 640x480 with 2 Axes>"
            ],
            "image/png": "[encoded data removed]"
          },
          "metadata": {}
        }
      ]
    },
    {
      "cell_type": "code",
      "source": [
        "#44. Write a Python program to train an SVM Regressor (SVR) and evaluate its performance using Mean Absolute Error (MAE) instead of MSE?\n",
        "\n",
        "from sklearn.datasets import load_diabetes\n",
        "from sklearn.model_selection import train_test_split\n",
        "from sklearn.svm import SVR\n",
        "from sklearn.metrics import mean_absolute_error\n",
        "\n",
        "# Load dataset\n",
        "X, y = load_diabetes(return_X_y=True)\n",
        "\n",
        "# Split data\n",
        "X_train, X_test, y_train, y_test = train_test_split(X, y, test_size=0.3, random_state=42)\n",
        "\n",
        "# Train SVR\n",
        "svr_model = SVR(kernel='rbf')\n",
        "svr_model.fit(X_train, y_train)\n",
        "\n",
        "# Predict\n",
        "y_pred = svr_model.predict(X_test)\n",
        "\n",
        "# Evaluate with MAE\n",
        "mae = mean_absolute_error(y_test, y_pred)\n",
        "print(f\"Mean Absolute Error (MAE): {mae:.4f}\")"
      ],
      "metadata": {
        "id": "K92aBaRK0x05",
        "colab": {
          "base_uri": "https://localhost:8080/"
        },
        "outputId": "9d6e6b78-262a-4841-f303-3d37aa29bba2"
      },
      "execution_count": null,
      "outputs": [
        {
          "output_type": "stream",
          "name": "stdout",
          "text": [
            "Mean Absolute Error (MAE): 56.4147\n"
          ]
        }
      ]
    },
    {
      "cell_type": "code",
      "source": [
        "#45. Write a Python program to train a Naïve Bayes classifier and evaluate its performance using the ROC-AUC score?\n",
        "\n",
        "from sklearn.datasets import load_breast_cancer\n",
        "from sklearn.model_selection import train_test_split\n",
        "from sklearn.naive_bayes import GaussianNB\n",
        "from sklearn.metrics import roc_auc_score\n",
        "\n",
        "# Load data\n",
        "X, y = load_breast_cancer(return_X_y=True)\n",
        "\n",
        "# Split data\n",
        "X_train, X_test, y_train, y_test = train_test_split(X, y, test_size=0.3, random_state=42)\n",
        "\n",
        "# Train Naive Bayes\n",
        "model = GaussianNB()\n",
        "model.fit(X_train, y_train)\n",
        "\n",
        "# Predict probabilities\n",
        "y_prob = model.predict_proba(X_test)[:, 1]\n",
        "\n",
        "# ROC-AUC Score\n",
        "roc_auc = roc_auc_score(y_test, y_prob)\n",
        "print(f\"ROC-AUC Score: {roc_auc:.4f}\")"
      ],
      "metadata": {
        "id": "xwkX_oOb0yLD",
        "colab": {
          "base_uri": "https://localhost:8080/"
        },
        "outputId": "06f06981-6792-4002-f08d-cb075af92675"
      },
      "execution_count": null,
      "outputs": [
        {
          "output_type": "stream",
          "name": "stdout",
          "text": [
            "ROC-AUC Score: 0.9922\n"
          ]
        }
      ]
    },
    {
      "cell_type": "code",
      "source": [
        "#46. Write a Python program to train an SVM Classifier and visualize the Precision-Recall Curve.\n",
        "\n",
        "import matplotlib.pyplot as plt\n",
        "from sklearn.datasets import load_breast_cancer\n",
        "from sklearn.model_selection import train_test_split\n",
        "from sklearn.svm import SVC\n",
        "from sklearn.metrics import precision_recall_curve, PrecisionRecallDisplay\n",
        "\n",
        "# Load dataset\n",
        "X, y = load_breast_cancer(return_X_y=True)\n",
        "\n",
        "# Split data\n",
        "X_train, X_test, y_train, y_test = train_test_split(X, y, test_size=0.3, random_state=42)\n",
        "\n",
        "# Train SVM with probability estimates\n",
        "svm_model = SVC(kernel='rbf', probability=True)\n",
        "svm_model.fit(X_train, y_train)\n",
        "\n",
        "# Predict probabilities\n",
        "y_scores = svm_model.predict_proba(X_test)[:, 1]\n",
        "\n",
        "# Precision-Recall Curve\n",
        "precision, recall, _ = precision_recall_curve(y_test, y_scores)\n",
        "disp = PrecisionRecallDisplay(precision=precision, recall=recall)\n",
        "disp.plot()\n",
        "plt.title(\"Precision-Recall Curve for SVM\")\n",
        "plt.show()"
      ],
      "metadata": {
        "id": "DU2UedDn0zis",
        "colab": {
          "base_uri": "https://localhost:8080/",
          "height": 326
        },
        "outputId": "7278e467-7482-4ba4-9870-03d17abedde2"
      },
      "execution_count": null,
      "outputs": [
        {
          "output_type": "display_data",
          "data": {
            "text/plain": [
              "<Figure size 640x480 with 1 Axes>"
            ],
            "image/png": "[encoded data removed]"
          },
          "metadata": {}
        }
      ]
    }
  ],
  "metadata": {
    "colab": {
      "provenance": []
    },
    "kernelspec": {
      "display_name": "Python 3",
      "name": "python3"
    },
    "language_info": {
      "name": "python"
    }
  },
  "nbformat": 4,
  "nbformat_minor": 0
}